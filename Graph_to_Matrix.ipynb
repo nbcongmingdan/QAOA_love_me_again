{
 "cells": [
  {
   "cell_type": "code",
   "execution_count": 4,
   "id": "efe60513-3982-4f63-9329-968b3dd2bdf8",
   "metadata": {},
   "outputs": [
    {
     "name": "stdout",
     "output_type": "stream",
     "text": [
      "[[0 1 1 0]\n",
      " [0 0 1 1]\n",
      " [0 0 0 1]\n",
      " [0 0 0 0]]\n"
     ]
    }
   ],
   "source": [
    "import networkx as nx\n",
    "import numpy as np\n",
    "\n",
    "def graph_to_adjacency_matrix(G):\n",
    "    # 检查图中是否有重复的边\n",
    "    assert len(G.edges()) == len(set(G.edges())), \"图中存在重复的边\"\n",
    "    #这里的set具有集合上的意义。也就是说它不能存在重复的\n",
    "\n",
    "    # 获取图中的节点数量\n",
    "    n = len(G.nodes())\n",
    "    # 创建一个n*n的零矩阵\n",
    "    matrix = np.zeros((n, n), dtype=int)\n",
    "\n",
    "    # 遍历图中的每条边\n",
    "    for u, v in G.edges():\n",
    "        if u != v:  # 排除自环\n",
    "            # 因为要创建上对角矩阵，所以只填充上三角部分\n",
    "            matrix[min(u, v), max(u, v)] = 1\n",
    "\n",
    "    return matrix\n",
    "\n",
    "# 示例使用\n",
    "G = nx.Graph()\n",
    "G.add_edges_from([(0, 1), (0, 2), (1, 2), (2, 3),(3,1), (1,3)])\n",
    "\n",
    "matrix = to_upper_triangular_adjacency_matrix(G)\n",
    "print(matrix)"
   ]
  },
  {
   "cell_type": "code",
   "execution_count": null,
   "id": "df6ba38f-9846-4320-a75b-3b5eaf411f58",
   "metadata": {},
   "outputs": [],
   "source": []
  }
 ],
 "metadata": {
  "kernelspec": {
   "display_name": "Python 3 (ipykernel)",
   "language": "python",
   "name": "python3"
  },
  "language_info": {
   "codemirror_mode": {
    "name": "ipython",
    "version": 3
   },
   "file_extension": ".py",
   "mimetype": "text/x-python",
   "name": "python",
   "nbconvert_exporter": "python",
   "pygments_lexer": "ipython3",
   "version": "3.11.6"
  }
 },
 "nbformat": 4,
 "nbformat_minor": 5
}
